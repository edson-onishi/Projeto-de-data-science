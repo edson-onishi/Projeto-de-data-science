{
 "cells": [
  {
   "cell_type": "markdown",
   "metadata": {},
   "source": [
    "No codigo abaixo utilizei \n",
    "- Abra o arquivo AppleStore.csv usando a função open() e atribua a saída a uma variável chamada open_file\n",
    "- Importar a função reader() do módulo csv\n",
    "- Leia o open_file usando a função reader() e atribua a saída a uma variável chamada read_file\n",
    "- Transforme o reader_file em uma lista usando list() e salve-o em uma variável chamada apps_data\n",
    "- Exibe a linha de cabeçalho e as quatros primeiras linhas do Dataset"
   ]
  },
  {
   "cell_type": "code",
   "execution_count": 26,
   "metadata": {},
   "outputs": [
    {
     "data": {
      "text/plain": [
       "[[',\"id\",\"track_name\",\"size_bytes\",\"currency\",\"price\",\"rating_count_tot\",\"rating_count_ver\",\"user_rating\",\"user_rating_ver\",\"ver\",\"cont_rating\",\"prime_genre\",\"sup_devices.num\",\"ipadSc_urls.num\",\"lang.num\",\"vpp_lic\";'],\n",
       " ['1,\"281656475\",\"PAC-MAN Premium\",100788224,\"USD\",3.99,21292,26,4,4.5,\"6.3.5\",\"4+\",\"Games\",38,5,10,1;'],\n",
       " ['2,\"281796108\",\"Evernote - stay organized\",158578688,\"USD\",0,161065,26,4,3.5,\"8.2.2\",\"4+\",\"Productivity\",37,5,23,1;'],\n",
       " ['3,\"281940292\",\"WeatherBug - Local Weather, Radar, Maps, Alerts\",100524032,\"USD\",0,188583,2822,3.5,4.5,\"5.0.0\",\"4+\",\"Weather\",37,5,3,1;'],\n",
       " ['4,\"282614216\",\"eBay: Best App to Buy, Sell, Save! Online Shopping\",128512000,\"USD\",0,262241,649,4,4.5,\"5.10.0\",\"12+\",\"Shopping\",37,5,9,1;']]"
      ]
     },
     "execution_count": 26,
     "metadata": {},
     "output_type": "execute_result"
    }
   ],
   "source": [
    "open_file = open('AppleStore.csv',encoding=\"utf8\")\n",
    "from csv import reader\n",
    "reader_file = reader(open_file)\n",
    "apps_data = list(reader_file)\n",
    "\n",
    "apps_data[:5]"
   ]
  },
  {
   "cell_type": "markdown",
   "metadata": {},
   "source": [
    "O dataset acima contém mais de 7000 detalhes do aplicativo móvel Apple iOS. Os dados foram extraídos da API de pesquisa do iTunes no site da Apple. As ferramentas de raspagem da Web R e Linux foram utilizadas para este estudo.<br>\n",
    "Pelo Engenheiro: [Ramanathan Perumal](https://www.kaggle.com/ramamet4) e pode ser feito o download deste dataset neste [Link](https://www.kaggle.com/ramamet4/app-store-apple-data-set-10k-apps/home)<br>\n",
    "Esta é uma tabela que explica o que cada coluna no Dataset descreve:"
   ]
  },
  {
   "cell_type": "markdown",
   "metadata": {},
   "source": [
    "| Nome da coluna   | Descrição                                                  |\n",
    "|:-----------------|------------------------------------------------------------|\n",
    "| id               | App ID                                                     |\n",
    "| track_name       | nome do aplicativo                                         |\n",
    "| size_bytes       | Tamnho (in Bytes)                                          |\n",
    "| currency         | Tipo de moeda                                              |\n",
    "| price            | Price amount                                               |\n",
    "| rating_count_tot | Contagens de classificação de usuários (for all version)   |\n",
    "| rating_count_ver | Contagem de classificação do usuário (for current version) |\n",
    "| user_rating      | Valor médio da classificação do usuário (for all version)  |\n",
    "| user_rating_ver  | Average User Rating value (for current version)            |\n",
    "| ver              | Versão do codigo mais recente                              |\n",
    "| cont_rating      | Classificação do Conteúdo                                  |\n",
    "| prime_genre      | Gênero                                                     |\n",
    "| sup_devices.num  | Número de dispositivos de suporte                          |\n",
    "| ipadSc_urls.num  | Número de capturas de tela exibidas para exibição          |\n",
    "| lang.num         | Número de idiomas suportados                               |\n",
    "| vpp_lic          | Licenciamento Baseado em Dispositivo Vpp Ativado           |"
   ]
  },
  {
   "cell_type": "markdown",
   "metadata": {},
   "source": [
    "Como fazer uma tabela [link](https://www.markdownguide.org/extended-syntax/#tables)\n",
    "como fazer formatação [link](https://commonmark.org/help/)"
   ]
  },
  {
   "cell_type": "code",
   "execution_count": null,
   "metadata": {},
   "outputs": [],
   "source": []
  }
 ],
 "metadata": {
  "kernelspec": {
   "display_name": "Python 3",
   "language": "python",
   "name": "python3"
  },
  "language_info": {
   "codemirror_mode": {
    "name": "ipython",
    "version": 3
   },
   "file_extension": ".py",
   "mimetype": "text/x-python",
   "name": "python",
   "nbconvert_exporter": "python",
   "pygments_lexer": "ipython3",
   "version": "3.6.5"
  }
 },
 "nbformat": 4,
 "nbformat_minor": 2
}
